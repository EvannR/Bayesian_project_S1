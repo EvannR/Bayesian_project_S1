{
  "nbformat": 4,
  "nbformat_minor": 0,
  "metadata": {
    "colab": {
      "provenance": []
    },
    "kernelspec": {
      "name": "python3",
      "display_name": "Python 3"
    },
    "language_info": {
      "name": "python"
    }
  },
  "cells": [
    {
      "cell_type": "markdown",
      "source": [
        "# **Project Description**\n",
        "This project focuses on **Bayesian decision-making**, aiming to study the behavior of a given agent in a **two-forced choice task**.  \n",
        "The central question is: **Is the agent Bayesian?**\n",
        "\n",
        "---\n",
        "\n",
        "## **Learning Process**\n",
        "During the learning process, the agent undergoes **n steps** and interacts with two types of apples: **good apples** and **bad apples**.  \n",
        "The agent cannot directly access the **true state** of the apple but relies on the apple's **color** (which varies continuously from negative to positive values).  \n",
        "\n",
        "At each time step, the agent can decide to: **eat** or **not eat** the apple.\n",
        "\n",
        "### **Reward Structure**\n",
        "hp = health point.\n",
        "\n",
        "#### When the agent **eats the apple**:\n",
        "1. Eating a **good apple** = **+2 hp**  \n",
        "2. Eating a **bad apple** = **-2 hp**\n",
        "\n",
        "#### When the agent **does not eat the apple**:\n",
        "- If the agent **ate on the previous turn**:\n",
        "  1. Not eating = **-1 hp**\n",
        "- If the agent **did not eat on the previous turn**:\n",
        "  1. Not eating = **-3 hp**\n",
        "\n",
        "The agent is assumed to **try to maximize its hp**\n",
        "If the agent is Bayesian, we hypothesize that it builds a **prior distribution** of good apples to make the best decision based on the information it gathers.\n",
        "\n",
        "Now we have to investigate his behavior to find out if he seems to be Bayesian. Be careful and remember laws of inductive and deductive reasoning : we cannot tell that he is bayesian, we can only say that he behaves like on should do :).\n",
        "\n",
        "---"
      ],
      "metadata": {
        "id": "AdoFWg86a0x0"
      }
    },
    {
      "cell_type": "markdown",
      "source": [
        "# CSV maker"
      ],
      "metadata": {
        "id": "nmq736t9ylbI"
      }
    },
    {
      "cell_type": "code",
      "source": [
        "def csv_exp_tuple_file_method(value1: list[tuple], step: float, std1: list, value2: int, std2: int, probasize: int, filename: str) -> None:\n",
        "\t\"\"\"\n",
        "\tGenereate a csv file with the following columns:\n",
        "\t- trial: the trial number\n",
        "\t- value1: the value of the first variable\n",
        "\t- std1: the standard deviation of the first variable\n",
        "\t- value2: the value of the second variable\n",
        "\t- std2: the standard deviation of the second variable\n",
        "\n",
        "\tFor each tuple of min, max in value1 and for each value in std1,\n",
        "\twe generate probasize trials with the same value2 and std2. We increment\n",
        "\tthe value of value1 by step each time in order to generate a increasing\n",
        "\tsequence of value1.\n",
        "\t\"\"\"\n",
        "\twith open(filename, 'w') as f:\n",
        "\t\tf.write('trial,value1,std1,value2,std2\\n')\n",
        "\t\tn = 0\n",
        "\t\tfor par_Val1 in value1:\n",
        "\t\t\tmin_value1, max_value1 = par_Val1\n",
        "\t\t\tfor std in std1:\n",
        "\t\t\t\tfor j in range (int(min_value1 * 1 / step), int(max_value1 * 1 / step)):\n",
        "\t\t\t\t\ttrials = [n, round(j * step, 3), std, value2, std2]\n",
        "\t\t\t\t\tfor i in range(0, probasize):\n",
        "\t\t\t\t\t\tf.write(','.join(map(str, trials)) + '\\n')\n",
        "\t\t\t\t\tn += 1\n",
        "\treturn"
      ],
      "metadata": {
        "id": "Q_nF3VV1yxBp"
      },
      "execution_count": null,
      "outputs": []
    },
    {
      "cell_type": "markdown",
      "source": [
        "# First block of experiment"
      ],
      "metadata": {
        "id": "AU3DP6UJh41w"
      }
    },
    {
      "cell_type": "markdown",
      "source": [
        "### **Reasoning on the principle 1: The Prior Attracts Noisy Observations**\n",
        "We will test if the agent's behavior suggests it includes a **prior** in its decision-making process.\n",
        "\n",
        "#### **First Operational Hypothesis: With No Noise, the Prior Should Not Attract**\n",
        "- If the agent is Bayesian, then in the absence of noise in the stimuli, the decision probability should form a **staircased distribution**.  \n",
        "\n",
        "**Expected Observation:**  \n",
        "If this hypothesis does not hold, we may infer that the agent has **intrinsic noise**, causing a divergence from the expected results.\n",
        "\n",
        "---\n",
        "\n",
        "### **Let’s Be Gentle in Our Conclusion**  \n",
        "We assume the agent might have **internal noise**. Next, we check if the decision-making is **attracted by noisy stimuli**.\n",
        "\n",
        "#### **Second Operational Hypothesis: Attraction with Noisy Stimuli**\n",
        "1. Set **two reference stimuli values** \\( S_{\\text{ref1}} \\neq S_{\\text{ref2}} \\).  \n",
        "   - This avoids selecting a value equal to the **mean of the prior**, which could obscure the effect of attraction.  \n",
        "2. Compute the **Point of Subjective Equality (PSE)**, defined as \\( P(PSE) = 0.5 \\), for each reference value.  \n",
        "3. To calculate PSE, repeatedly run the task for each test stimulus \\( S_{\\text{test}} \\) within the range of possible values.  \n",
        "\n",
        "**Analysis:**  \n",
        "Compare the shift in the **PSE (x-axis)** relative to the **Point of Objective Equality (POE)**:  \n",
        "- If the PSE for at least one \\( S_{\\text{test}} \\) shifts away from the POE, it supports the hypothesis that the agent is Bayesian.  \n",
        "- If not, it weakens the Bayesian agent hypothesis.\n",
        "\n",
        "---\n",
        "\n",
        "#### **Third Operational Hypothesis: Attraction Increases with Noise**\n",
        "1. Fix one of the \\( S_{\\text{ref}} \\) values from the previous experiment, where an attraction was observed.  \n",
        "2. Investigate how **increasing noise** affects the PSE:  \n",
        "   - **Prediction:** With more noise, the PSE should **diverge further** from the POE.  \n",
        "\n",
        "---\n"
      ],
      "metadata": {
        "id": "lRwYecw2iqVY"
      }
    },
    {
      "cell_type": "markdown",
      "source": [
        "## Testing the first hypothesis : With no noise : the prior should not attract"
      ],
      "metadata": {
        "id": "eGqq0PXNiAoI"
      }
    },
    {
      "cell_type": "markdown",
      "source": [
        "### Make the CSV for the experiment\n",
        "S_ref = 1\n",
        "No noise in both stimuli\n",
        "\n",
        "CSV name = experiment1_testing_testing.csv"
      ],
      "metadata": {
        "id": "LzBtCATKzcOU"
      }
    },
    {
      "cell_type": "code",
      "source": [
        "csv_exp_tuple_file_method(value1=[(-3, 3)], step=0.005, std1=[0], value2=, std2=0, probasize: int, filename: str)\n",
        "\n",
        "\"\"\"\n",
        "\tGenereate a csv file with the following columns:\n",
        "\t- trial: the trial number\n",
        "\t- value1: the value of the first variable\n",
        "\t- std1: the standard deviation of the first variable\n",
        "\t- value2: the value of the second variable\n",
        "\t- std2: the standard deviation of the second variable\n",
        "\"\"\""
      ],
      "metadata": {
        "id": "ecU9AVp7yUnw"
      },
      "execution_count": null,
      "outputs": []
    },
    {
      "cell_type": "code",
      "execution_count": null,
      "metadata": {
        "id": "zlkXMC8paknU"
      },
      "outputs": [],
      "source": []
    },
    {
      "cell_type": "markdown",
      "source": [
        "##Testing the second hypothesis : Is there an attraction ?"
      ],
      "metadata": {
        "id": "P-M6mTpoilyT"
      }
    },
    {
      "cell_type": "code",
      "source": [],
      "metadata": {
        "id": "3MaR2TQWirZg"
      },
      "execution_count": null,
      "outputs": []
    },
    {
      "cell_type": "markdown",
      "source": [
        "##Testing the third hypothesis : is the noisyness influencing the decision probability ?"
      ],
      "metadata": {
        "id": "XtuLR5IJisLi"
      }
    },
    {
      "cell_type": "code",
      "source": [],
      "metadata": {
        "id": "o7hOMEtui4ML"
      },
      "execution_count": null,
      "outputs": []
    },
    {
      "cell_type": "code",
      "source": [],
      "metadata": {
        "id": "G22uTDWzl5xL"
      },
      "execution_count": null,
      "outputs": []
    },
    {
      "cell_type": "markdown",
      "source": [
        "# Second experiment : Now that we think that he is acting that way because of a prior, is the prior optimal to his training ? (if not he is not bayesian)"
      ],
      "metadata": {
        "id": "HAV3Am7okC4H"
      }
    },
    {
      "cell_type": "markdown",
      "source": [
        "## This part is not well written but the idea is as follows \\:\n",
        "With a noisy stimulus, the prior should act as an attractor.\n",
        "\n",
        "\n",
        "We hypothesize, given the assumption that the agent starts to learn with no prior that the experimentally estimated prior and optimal prior given the data are similar (OH4). If this hypothesis is unvalidated we could hypothesize that the agent starts with a prior that is non-null. If it is validated we have more reasons to think that he is bayesian but he might still not be :)\n",
        "\n",
        "1) Compute the prior from experiment\n",
        "1. get µ with convergence\n",
        "2. std with attraction\n",
        "\n",
        "2) Compute the bayesian prior from the training\n",
        "1. solution 1 : iterative update with python untill last step (be carefull, when he does not eat, he may not update his prior ?)\n",
        "2. solution 2 : is there a way to compute it directly from the datas ?\n",
        "\n",
        "3) Compare both\n",
        "\n",
        "This could maybe also done by statistical comparison of the prior created by a bayesian agent (bayesfit library) and the one we estimated.\n",
        "\n"
      ],
      "metadata": {
        "id": "AkG8vZ9PkRZl"
      }
    }
  ]
}