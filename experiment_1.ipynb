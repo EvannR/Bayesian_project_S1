{
 "cells": [
  {
   "cell_type": "code",
   "execution_count": 17,
   "metadata": {},
   "outputs": [],
   "source": [
    "import numpy as np\n",
    "import csv\n",
    "import pandas as pd\n",
    "import matplotlib.pyplot as plt\n",
    "import seaborn as sns"
   ]
  },
  {
   "cell_type": "code",
   "execution_count": 3,
   "metadata": {},
   "outputs": [
    {
     "name": "stdout",
     "output_type": "stream",
     "text": [
      "['Trial', ' Stimulus 1 value', 'Stimulus 1 std', 'Stimulus 2 value', 'Stimulus 2 std']\n"
     ]
    }
   ],
   "source": [
    "variable_names = [ \"Trial\",\" Stimulus 1 value\", \"Stimulus 1 std\", \"Stimulus 2 value\", \"Stimulus 2 std\"]\n",
    "print(variable_names)"
   ]
  },
  {
   "cell_type": "code",
   "execution_count": 33,
   "metadata": {},
   "outputs": [
    {
     "name": "stdout",
     "output_type": "stream",
     "text": [
      "         Trial  Stimulus 1 Value  Stimulus 1 Std  Stimulus 2 Value  \\\n",
      "count  4.00000          4.000000             4.0          4.000000   \n",
      "mean   1.50000          0.000000             0.1          0.000000   \n",
      "std    0.57735          1.154701             0.0          1.154701   \n",
      "min    1.00000         -1.000000             0.1         -1.000000   \n",
      "25%    1.00000         -1.000000             0.1         -1.000000   \n",
      "50%    1.50000          0.000000             0.1          0.000000   \n",
      "75%    2.00000          1.000000             0.1          1.000000   \n",
      "max    2.00000          1.000000             0.1          1.000000   \n",
      "\n",
      "       Stimulus 2 Std  \n",
      "count             4.0  \n",
      "mean              0.2  \n",
      "std               0.0  \n",
      "min               0.2  \n",
      "25%               0.2  \n",
      "50%               0.2  \n",
      "75%               0.2  \n",
      "max               0.2  \n",
      "   Trial  Stimulus 1 Value  Stimulus 1 Std  Stimulus 2 Value  Stimulus 2 Std  \\\n",
      "0      1               1.0             0.1              -1.0             0.2   \n",
      "1      1               1.0             0.1              -1.0             0.2   \n",
      "2      2              -1.0             0.1               1.0             0.2   \n",
      "3      2              -1.0             0.1               1.0             0.2   \n",
      "\n",
      "   Comparison Result  \n",
      "0               True  \n",
      "1               True  \n",
      "2              False  \n",
      "3              False  \n"
     ]
    }
   ],
   "source": [
    "results = pd.read_csv('experiment_results.csv')\n",
    "print(results.describe())\n",
    "print(results)"
   ]
  },
  {
   "cell_type": "markdown",
   "metadata": {},
   "source": [
    "## attention test avec avec autre tableau pour voir ce qui fonctionne ! ( a surppimer )"
   ]
  },
  {
   "cell_type": "code",
   "execution_count": 20,
   "metadata": {},
   "outputs": [
    {
     "data": {
      "text/html": [
       "<div>\n",
       "<style scoped>\n",
       "    .dataframe tbody tr th:only-of-type {\n",
       "        vertical-align: middle;\n",
       "    }\n",
       "\n",
       "    .dataframe tbody tr th {\n",
       "        vertical-align: top;\n",
       "    }\n",
       "\n",
       "    .dataframe thead th {\n",
       "        text-align: right;\n",
       "    }\n",
       "</style>\n",
       "<table border=\"1\" class=\"dataframe\">\n",
       "  <thead>\n",
       "    <tr style=\"text-align: right;\">\n",
       "      <th></th>\n",
       "      <th>Trial</th>\n",
       "      <th>Stimulus 1 value</th>\n",
       "      <th>Stimulus 1 std</th>\n",
       "      <th>Stimulus 2 value</th>\n",
       "      <th>Stimulus 2 std</th>\n",
       "    </tr>\n",
       "  </thead>\n",
       "  <tbody>\n",
       "    <tr>\n",
       "      <th>count</th>\n",
       "      <td>2.000000e+07</td>\n",
       "      <td>2.000000e+07</td>\n",
       "      <td>2.000000e+07</td>\n",
       "      <td>2.000000e+07</td>\n",
       "      <td>2.000000e+07</td>\n",
       "    </tr>\n",
       "    <tr>\n",
       "      <th>mean</th>\n",
       "      <td>1.459646e+06</td>\n",
       "      <td>8.767529e-17</td>\n",
       "      <td>1.000000e+00</td>\n",
       "      <td>-2.328306e-17</td>\n",
       "      <td>1.000000e-01</td>\n",
       "    </tr>\n",
       "    <tr>\n",
       "      <th>std</th>\n",
       "      <td>2.027260e+06</td>\n",
       "      <td>1.749459e+00</td>\n",
       "      <td>6.382848e-01</td>\n",
       "      <td>6.069770e-01</td>\n",
       "      <td>3.927414e-15</td>\n",
       "    </tr>\n",
       "    <tr>\n",
       "      <th>min</th>\n",
       "      <td>1.000000e+00</td>\n",
       "      <td>-3.000000e+00</td>\n",
       "      <td>0.000000e+00</td>\n",
       "      <td>-1.000000e+00</td>\n",
       "      <td>1.000000e-01</td>\n",
       "    </tr>\n",
       "    <tr>\n",
       "      <th>25%</th>\n",
       "      <td>1.907280e+05</td>\n",
       "      <td>-1.500000e+00</td>\n",
       "      <td>4.444444e-01</td>\n",
       "      <td>-5.000000e-01</td>\n",
       "      <td>1.000000e-01</td>\n",
       "    </tr>\n",
       "    <tr>\n",
       "      <th>50%</th>\n",
       "      <td>6.593400e+05</td>\n",
       "      <td>0.000000e+00</td>\n",
       "      <td>1.000000e+00</td>\n",
       "      <td>-4.857226e-17</td>\n",
       "      <td>1.000000e-01</td>\n",
       "    </tr>\n",
       "    <tr>\n",
       "      <th>75%</th>\n",
       "      <td>1.873125e+06</td>\n",
       "      <td>1.500000e+00</td>\n",
       "      <td>1.555556e+00</td>\n",
       "      <td>5.000000e-01</td>\n",
       "      <td>1.000000e-01</td>\n",
       "    </tr>\n",
       "    <tr>\n",
       "      <th>max</th>\n",
       "      <td>2.000000e+07</td>\n",
       "      <td>3.000000e+00</td>\n",
       "      <td>2.000000e+00</td>\n",
       "      <td>1.000000e+00</td>\n",
       "      <td>1.000000e-01</td>\n",
       "    </tr>\n",
       "  </tbody>\n",
       "</table>\n",
       "</div>"
      ],
      "text/plain": [
       "              Trial  Stimulus 1 value   Stimulus 1 std   Stimulus 2 value  \\\n",
       "count  2.000000e+07      2.000000e+07     2.000000e+07       2.000000e+07   \n",
       "mean   1.459646e+06      8.767529e-17     1.000000e+00      -2.328306e-17   \n",
       "std    2.027260e+06      1.749459e+00     6.382848e-01       6.069770e-01   \n",
       "min    1.000000e+00     -3.000000e+00     0.000000e+00      -1.000000e+00   \n",
       "25%    1.907280e+05     -1.500000e+00     4.444444e-01      -5.000000e-01   \n",
       "50%    6.593400e+05      0.000000e+00     1.000000e+00      -4.857226e-17   \n",
       "75%    1.873125e+06      1.500000e+00     1.555556e+00       5.000000e-01   \n",
       "max    2.000000e+07      3.000000e+00     2.000000e+00       1.000000e+00   \n",
       "\n",
       "        Stimulus 2 std  \n",
       "count     2.000000e+07  \n",
       "mean      1.000000e-01  \n",
       "std       3.927414e-15  \n",
       "min       1.000000e-01  \n",
       "25%       1.000000e-01  \n",
       "50%       1.000000e-01  \n",
       "75%       1.000000e-01  \n",
       "max       1.000000e-01  "
      ]
     },
     "execution_count": 20,
     "metadata": {},
     "output_type": "execute_result"
    }
   ],
   "source": [
    "results = pd.read_csv('experiment_stim_pairs.csv')\n",
    "results.describe()"
   ]
  },
  {
   "cell_type": "markdown",
   "metadata": {},
   "source": [
    "############################################"
   ]
  },
  {
   "cell_type": "code",
   "execution_count": 27,
   "metadata": {},
   "outputs": [],
   "source": [
    "def get_prob_from_one_value_pair(results, std, mean):\n",
    "    mean_results = results[results['Stimulus 1 Value'] == mean]\n",
    "    std_results = mean_results[mean_results['Stimulus 1 Std'] == std]\n",
    "    decision = std_results['Comparison Result']\n",
    "    return np.sum(decision)/trial_number\n"
   ]
  },
  {
   "cell_type": "code",
   "execution_count": 28,
   "metadata": {},
   "outputs": [],
   "source": [
    "means = results['Stimulus 1 Value'].unique()\n",
    "stds = results['Stimulus 1 Std'].unique()\n",
    "stimulus_2_mean = results['Stimulus 2 Value'].unique()\n",
    "decision_prob = np.zeros((len(means), len(stds), len(stimulus_2_mean)))\n",
    "for k, s2_mean in enumerate(stimulus_2_mean):\n",
    "    for i, mean in enumerate(means):\n",
    "        for j, std in enumerate(stds):\n",
    "            decision_prob[i, j, k] = get_prob_from_one_value_pair(results[results['Stimulus 2 Value']==s2_mean], std, mean)"
   ]
  },
  {
   "cell_type": "code",
   "execution_count": 30,
   "metadata": {},
   "outputs": [
    {
     "ename": "IndexError",
     "evalue": "index 4 is out of bounds for axis 2 with size 2",
     "output_type": "error",
     "traceback": [
      "\u001b[1;31m---------------------------------------------------------------------------\u001b[0m",
      "\u001b[1;31mIndexError\u001b[0m                                Traceback (most recent call last)",
      "Cell \u001b[1;32mIn[30], line 3\u001b[0m\n\u001b[0;32m      1\u001b[0m discrete_palette \u001b[38;5;241m=\u001b[39m sns\u001b[38;5;241m.\u001b[39mcolor_palette(\u001b[38;5;124m\"\u001b[39m\u001b[38;5;124mrocket\u001b[39m\u001b[38;5;124m\"\u001b[39m, n_colors\u001b[38;5;241m=\u001b[39m\u001b[38;5;241m10\u001b[39m)\n\u001b[0;32m      2\u001b[0m \u001b[38;5;28;01mfor\u001b[39;00m i \u001b[38;5;129;01min\u001b[39;00m \u001b[38;5;28mrange\u001b[39m(\u001b[38;5;28mlen\u001b[39m(stds)):\n\u001b[1;32m----> 3\u001b[0m     sns\u001b[38;5;241m.\u001b[39mlineplot(x\u001b[38;5;241m=\u001b[39mmeans, y\u001b[38;5;241m=\u001b[39m\u001b[43mdecision_prob\u001b[49m\u001b[43m[\u001b[49m\u001b[43m:\u001b[49m\u001b[43m,\u001b[49m\u001b[43m \u001b[49m\u001b[43mi\u001b[49m\u001b[43m,\u001b[49m\u001b[43m \u001b[49m\u001b[38;5;241;43m4\u001b[39;49m\u001b[43m]\u001b[49m, label\u001b[38;5;241m=\u001b[39m\u001b[38;5;124mf\u001b[39m\u001b[38;5;124m'\u001b[39m\u001b[38;5;124mstd = \u001b[39m\u001b[38;5;132;01m{\u001b[39;00mstds[i]\u001b[38;5;132;01m:\u001b[39;00m\u001b[38;5;124m.2f\u001b[39m\u001b[38;5;132;01m}\u001b[39;00m\u001b[38;5;124m'\u001b[39m, color\u001b[38;5;241m=\u001b[39mdiscrete_palette[i])\n\u001b[0;32m      4\u001b[0m plt\u001b[38;5;241m.\u001b[39mlegend()\n\u001b[0;32m      5\u001b[0m plt\u001b[38;5;241m.\u001b[39mshow()\n",
      "\u001b[1;31mIndexError\u001b[0m: index 4 is out of bounds for axis 2 with size 2"
     ]
    }
   ],
   "source": [
    "discrete_palette = sns.color_palette(\"rocket\", n_colors=10)\n",
    "for i in range(len(stds)):\n",
    "    sns.lineplot(x=means, y=decision_prob[:, i, 4], label=f'std = {stds[i]:.2f}', color=discrete_palette[i])\n",
    "plt.legend()\n",
    "plt.show()"
   ]
  },
  {
   "cell_type": "code",
   "execution_count": 31,
   "metadata": {},
   "outputs": [
    {
     "name": "stdout",
     "output_type": "stream",
     "text": [
      "(2, 1, 2)\n",
      "[[[0.002 0.   ]]\n",
      "\n",
      " [[0.    0.   ]]]\n"
     ]
    }
   ],
   "source": [
    "print(decision_prob.shape)\n",
    "print(decision_prob)"
   ]
  },
  {
   "cell_type": "code",
   "execution_count": null,
   "metadata": {},
   "outputs": [],
   "source": []
  }
 ],
 "metadata": {
  "kernelspec": {
   "display_name": "Python 3",
   "language": "python",
   "name": "python3"
  },
  "language_info": {
   "codemirror_mode": {
    "name": "ipython",
    "version": 3
   },
   "file_extension": ".py",
   "mimetype": "text/x-python",
   "name": "python",
   "nbconvert_exporter": "python",
   "pygments_lexer": "ipython3",
   "version": "3.12.3"
  }
 },
 "nbformat": 4,
 "nbformat_minor": 2
}
