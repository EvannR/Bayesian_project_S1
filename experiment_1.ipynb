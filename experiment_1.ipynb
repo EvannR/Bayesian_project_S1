{
 "cells": [
  {
   "cell_type": "code",
   "execution_count": 1,
   "metadata": {},
   "outputs": [],
   "source": [
    "import numpy as np\n",
    "import csv\n",
    "import pandas as pd\n",
    "import matplotlib.pyplot as plt\n",
    "import seaborn as sns"
   ]
  },
  {
   "cell_type": "code",
   "execution_count": 2,
   "metadata": {},
   "outputs": [
    {
     "name": "stdout",
     "output_type": "stream",
     "text": [
      "['Trial', ' Stimulus 1 value', 'Stimulus 1 std', 'Stimulus 2 value', 'Stimulus 2 std']\n"
     ]
    }
   ],
   "source": [
    "variable_names = [ \"Trial\",\" Stimulus 1 value\", \"Stimulus 1 std\", \"Stimulus 2 value\", \"Stimulus 2 std\"]\n",
    "print(variable_names)"
   ]
  },
  {
   "cell_type": "markdown",
   "metadata": {},
   "source": [
    "####################### visualisation des données #####################"
   ]
  },
  {
   "cell_type": "code",
   "execution_count": null,
   "metadata": {},
   "outputs": [],
   "source": [
    "from csv_maker_jerome import generate_data_CDF\n",
    "generate_data_CDF()"
   ]
  },
  {
   "cell_type": "code",
   "execution_count": 3,
   "metadata": {},
   "outputs": [
    {
     "ename": "FileNotFoundError",
     "evalue": "[Errno 2] No such file or directory: 'experiment_results.csv'",
     "output_type": "error",
     "traceback": [
      "\u001b[1;31m---------------------------------------------------------------------------\u001b[0m",
      "\u001b[1;31mFileNotFoundError\u001b[0m                         Traceback (most recent call last)",
      "Cell \u001b[1;32mIn[3], line 1\u001b[0m\n\u001b[1;32m----> 1\u001b[0m results \u001b[38;5;241m=\u001b[39m \u001b[43mpd\u001b[49m\u001b[38;5;241;43m.\u001b[39;49m\u001b[43mread_csv\u001b[49m\u001b[43m(\u001b[49m\u001b[38;5;124;43m'\u001b[39;49m\u001b[38;5;124;43mexperiment_results.csv\u001b[39;49m\u001b[38;5;124;43m'\u001b[39;49m\u001b[43m)\u001b[49m\n\u001b[0;32m      2\u001b[0m \u001b[38;5;66;03m#print(results.describe())\u001b[39;00m\n\u001b[0;32m      3\u001b[0m \u001b[38;5;28mprint\u001b[39m(results)\n",
      "File \u001b[1;32mc:\\Users\\evann\\AppData\\Local\\Programs\\Python\\Python312\\Lib\\site-packages\\pandas\\io\\parsers\\readers.py:1026\u001b[0m, in \u001b[0;36mread_csv\u001b[1;34m(filepath_or_buffer, sep, delimiter, header, names, index_col, usecols, dtype, engine, converters, true_values, false_values, skipinitialspace, skiprows, skipfooter, nrows, na_values, keep_default_na, na_filter, verbose, skip_blank_lines, parse_dates, infer_datetime_format, keep_date_col, date_parser, date_format, dayfirst, cache_dates, iterator, chunksize, compression, thousands, decimal, lineterminator, quotechar, quoting, doublequote, escapechar, comment, encoding, encoding_errors, dialect, on_bad_lines, delim_whitespace, low_memory, memory_map, float_precision, storage_options, dtype_backend)\u001b[0m\n\u001b[0;32m   1013\u001b[0m kwds_defaults \u001b[38;5;241m=\u001b[39m _refine_defaults_read(\n\u001b[0;32m   1014\u001b[0m     dialect,\n\u001b[0;32m   1015\u001b[0m     delimiter,\n\u001b[1;32m   (...)\u001b[0m\n\u001b[0;32m   1022\u001b[0m     dtype_backend\u001b[38;5;241m=\u001b[39mdtype_backend,\n\u001b[0;32m   1023\u001b[0m )\n\u001b[0;32m   1024\u001b[0m kwds\u001b[38;5;241m.\u001b[39mupdate(kwds_defaults)\n\u001b[1;32m-> 1026\u001b[0m \u001b[38;5;28;01mreturn\u001b[39;00m \u001b[43m_read\u001b[49m\u001b[43m(\u001b[49m\u001b[43mfilepath_or_buffer\u001b[49m\u001b[43m,\u001b[49m\u001b[43m \u001b[49m\u001b[43mkwds\u001b[49m\u001b[43m)\u001b[49m\n",
      "File \u001b[1;32mc:\\Users\\evann\\AppData\\Local\\Programs\\Python\\Python312\\Lib\\site-packages\\pandas\\io\\parsers\\readers.py:620\u001b[0m, in \u001b[0;36m_read\u001b[1;34m(filepath_or_buffer, kwds)\u001b[0m\n\u001b[0;32m    617\u001b[0m _validate_names(kwds\u001b[38;5;241m.\u001b[39mget(\u001b[38;5;124m\"\u001b[39m\u001b[38;5;124mnames\u001b[39m\u001b[38;5;124m\"\u001b[39m, \u001b[38;5;28;01mNone\u001b[39;00m))\n\u001b[0;32m    619\u001b[0m \u001b[38;5;66;03m# Create the parser.\u001b[39;00m\n\u001b[1;32m--> 620\u001b[0m parser \u001b[38;5;241m=\u001b[39m \u001b[43mTextFileReader\u001b[49m\u001b[43m(\u001b[49m\u001b[43mfilepath_or_buffer\u001b[49m\u001b[43m,\u001b[49m\u001b[43m \u001b[49m\u001b[38;5;241;43m*\u001b[39;49m\u001b[38;5;241;43m*\u001b[39;49m\u001b[43mkwds\u001b[49m\u001b[43m)\u001b[49m\n\u001b[0;32m    622\u001b[0m \u001b[38;5;28;01mif\u001b[39;00m chunksize \u001b[38;5;129;01mor\u001b[39;00m iterator:\n\u001b[0;32m    623\u001b[0m     \u001b[38;5;28;01mreturn\u001b[39;00m parser\n",
      "File \u001b[1;32mc:\\Users\\evann\\AppData\\Local\\Programs\\Python\\Python312\\Lib\\site-packages\\pandas\\io\\parsers\\readers.py:1620\u001b[0m, in \u001b[0;36mTextFileReader.__init__\u001b[1;34m(self, f, engine, **kwds)\u001b[0m\n\u001b[0;32m   1617\u001b[0m     \u001b[38;5;28mself\u001b[39m\u001b[38;5;241m.\u001b[39moptions[\u001b[38;5;124m\"\u001b[39m\u001b[38;5;124mhas_index_names\u001b[39m\u001b[38;5;124m\"\u001b[39m] \u001b[38;5;241m=\u001b[39m kwds[\u001b[38;5;124m\"\u001b[39m\u001b[38;5;124mhas_index_names\u001b[39m\u001b[38;5;124m\"\u001b[39m]\n\u001b[0;32m   1619\u001b[0m \u001b[38;5;28mself\u001b[39m\u001b[38;5;241m.\u001b[39mhandles: IOHandles \u001b[38;5;241m|\u001b[39m \u001b[38;5;28;01mNone\u001b[39;00m \u001b[38;5;241m=\u001b[39m \u001b[38;5;28;01mNone\u001b[39;00m\n\u001b[1;32m-> 1620\u001b[0m \u001b[38;5;28mself\u001b[39m\u001b[38;5;241m.\u001b[39m_engine \u001b[38;5;241m=\u001b[39m \u001b[38;5;28;43mself\u001b[39;49m\u001b[38;5;241;43m.\u001b[39;49m\u001b[43m_make_engine\u001b[49m\u001b[43m(\u001b[49m\u001b[43mf\u001b[49m\u001b[43m,\u001b[49m\u001b[43m \u001b[49m\u001b[38;5;28;43mself\u001b[39;49m\u001b[38;5;241;43m.\u001b[39;49m\u001b[43mengine\u001b[49m\u001b[43m)\u001b[49m\n",
      "File \u001b[1;32mc:\\Users\\evann\\AppData\\Local\\Programs\\Python\\Python312\\Lib\\site-packages\\pandas\\io\\parsers\\readers.py:1880\u001b[0m, in \u001b[0;36mTextFileReader._make_engine\u001b[1;34m(self, f, engine)\u001b[0m\n\u001b[0;32m   1878\u001b[0m     \u001b[38;5;28;01mif\u001b[39;00m \u001b[38;5;124m\"\u001b[39m\u001b[38;5;124mb\u001b[39m\u001b[38;5;124m\"\u001b[39m \u001b[38;5;129;01mnot\u001b[39;00m \u001b[38;5;129;01min\u001b[39;00m mode:\n\u001b[0;32m   1879\u001b[0m         mode \u001b[38;5;241m+\u001b[39m\u001b[38;5;241m=\u001b[39m \u001b[38;5;124m\"\u001b[39m\u001b[38;5;124mb\u001b[39m\u001b[38;5;124m\"\u001b[39m\n\u001b[1;32m-> 1880\u001b[0m \u001b[38;5;28mself\u001b[39m\u001b[38;5;241m.\u001b[39mhandles \u001b[38;5;241m=\u001b[39m \u001b[43mget_handle\u001b[49m\u001b[43m(\u001b[49m\n\u001b[0;32m   1881\u001b[0m \u001b[43m    \u001b[49m\u001b[43mf\u001b[49m\u001b[43m,\u001b[49m\n\u001b[0;32m   1882\u001b[0m \u001b[43m    \u001b[49m\u001b[43mmode\u001b[49m\u001b[43m,\u001b[49m\n\u001b[0;32m   1883\u001b[0m \u001b[43m    \u001b[49m\u001b[43mencoding\u001b[49m\u001b[38;5;241;43m=\u001b[39;49m\u001b[38;5;28;43mself\u001b[39;49m\u001b[38;5;241;43m.\u001b[39;49m\u001b[43moptions\u001b[49m\u001b[38;5;241;43m.\u001b[39;49m\u001b[43mget\u001b[49m\u001b[43m(\u001b[49m\u001b[38;5;124;43m\"\u001b[39;49m\u001b[38;5;124;43mencoding\u001b[39;49m\u001b[38;5;124;43m\"\u001b[39;49m\u001b[43m,\u001b[49m\u001b[43m \u001b[49m\u001b[38;5;28;43;01mNone\u001b[39;49;00m\u001b[43m)\u001b[49m\u001b[43m,\u001b[49m\n\u001b[0;32m   1884\u001b[0m \u001b[43m    \u001b[49m\u001b[43mcompression\u001b[49m\u001b[38;5;241;43m=\u001b[39;49m\u001b[38;5;28;43mself\u001b[39;49m\u001b[38;5;241;43m.\u001b[39;49m\u001b[43moptions\u001b[49m\u001b[38;5;241;43m.\u001b[39;49m\u001b[43mget\u001b[49m\u001b[43m(\u001b[49m\u001b[38;5;124;43m\"\u001b[39;49m\u001b[38;5;124;43mcompression\u001b[39;49m\u001b[38;5;124;43m\"\u001b[39;49m\u001b[43m,\u001b[49m\u001b[43m \u001b[49m\u001b[38;5;28;43;01mNone\u001b[39;49;00m\u001b[43m)\u001b[49m\u001b[43m,\u001b[49m\n\u001b[0;32m   1885\u001b[0m \u001b[43m    \u001b[49m\u001b[43mmemory_map\u001b[49m\u001b[38;5;241;43m=\u001b[39;49m\u001b[38;5;28;43mself\u001b[39;49m\u001b[38;5;241;43m.\u001b[39;49m\u001b[43moptions\u001b[49m\u001b[38;5;241;43m.\u001b[39;49m\u001b[43mget\u001b[49m\u001b[43m(\u001b[49m\u001b[38;5;124;43m\"\u001b[39;49m\u001b[38;5;124;43mmemory_map\u001b[39;49m\u001b[38;5;124;43m\"\u001b[39;49m\u001b[43m,\u001b[49m\u001b[43m \u001b[49m\u001b[38;5;28;43;01mFalse\u001b[39;49;00m\u001b[43m)\u001b[49m\u001b[43m,\u001b[49m\n\u001b[0;32m   1886\u001b[0m \u001b[43m    \u001b[49m\u001b[43mis_text\u001b[49m\u001b[38;5;241;43m=\u001b[39;49m\u001b[43mis_text\u001b[49m\u001b[43m,\u001b[49m\n\u001b[0;32m   1887\u001b[0m \u001b[43m    \u001b[49m\u001b[43merrors\u001b[49m\u001b[38;5;241;43m=\u001b[39;49m\u001b[38;5;28;43mself\u001b[39;49m\u001b[38;5;241;43m.\u001b[39;49m\u001b[43moptions\u001b[49m\u001b[38;5;241;43m.\u001b[39;49m\u001b[43mget\u001b[49m\u001b[43m(\u001b[49m\u001b[38;5;124;43m\"\u001b[39;49m\u001b[38;5;124;43mencoding_errors\u001b[39;49m\u001b[38;5;124;43m\"\u001b[39;49m\u001b[43m,\u001b[49m\u001b[43m \u001b[49m\u001b[38;5;124;43m\"\u001b[39;49m\u001b[38;5;124;43mstrict\u001b[39;49m\u001b[38;5;124;43m\"\u001b[39;49m\u001b[43m)\u001b[49m\u001b[43m,\u001b[49m\n\u001b[0;32m   1888\u001b[0m \u001b[43m    \u001b[49m\u001b[43mstorage_options\u001b[49m\u001b[38;5;241;43m=\u001b[39;49m\u001b[38;5;28;43mself\u001b[39;49m\u001b[38;5;241;43m.\u001b[39;49m\u001b[43moptions\u001b[49m\u001b[38;5;241;43m.\u001b[39;49m\u001b[43mget\u001b[49m\u001b[43m(\u001b[49m\u001b[38;5;124;43m\"\u001b[39;49m\u001b[38;5;124;43mstorage_options\u001b[39;49m\u001b[38;5;124;43m\"\u001b[39;49m\u001b[43m,\u001b[49m\u001b[43m \u001b[49m\u001b[38;5;28;43;01mNone\u001b[39;49;00m\u001b[43m)\u001b[49m\u001b[43m,\u001b[49m\n\u001b[0;32m   1889\u001b[0m \u001b[43m\u001b[49m\u001b[43m)\u001b[49m\n\u001b[0;32m   1890\u001b[0m \u001b[38;5;28;01massert\u001b[39;00m \u001b[38;5;28mself\u001b[39m\u001b[38;5;241m.\u001b[39mhandles \u001b[38;5;129;01mis\u001b[39;00m \u001b[38;5;129;01mnot\u001b[39;00m \u001b[38;5;28;01mNone\u001b[39;00m\n\u001b[0;32m   1891\u001b[0m f \u001b[38;5;241m=\u001b[39m \u001b[38;5;28mself\u001b[39m\u001b[38;5;241m.\u001b[39mhandles\u001b[38;5;241m.\u001b[39mhandle\n",
      "File \u001b[1;32mc:\\Users\\evann\\AppData\\Local\\Programs\\Python\\Python312\\Lib\\site-packages\\pandas\\io\\common.py:873\u001b[0m, in \u001b[0;36mget_handle\u001b[1;34m(path_or_buf, mode, encoding, compression, memory_map, is_text, errors, storage_options)\u001b[0m\n\u001b[0;32m    868\u001b[0m \u001b[38;5;28;01melif\u001b[39;00m \u001b[38;5;28misinstance\u001b[39m(handle, \u001b[38;5;28mstr\u001b[39m):\n\u001b[0;32m    869\u001b[0m     \u001b[38;5;66;03m# Check whether the filename is to be opened in binary mode.\u001b[39;00m\n\u001b[0;32m    870\u001b[0m     \u001b[38;5;66;03m# Binary mode does not support 'encoding' and 'newline'.\u001b[39;00m\n\u001b[0;32m    871\u001b[0m     \u001b[38;5;28;01mif\u001b[39;00m ioargs\u001b[38;5;241m.\u001b[39mencoding \u001b[38;5;129;01mand\u001b[39;00m \u001b[38;5;124m\"\u001b[39m\u001b[38;5;124mb\u001b[39m\u001b[38;5;124m\"\u001b[39m \u001b[38;5;129;01mnot\u001b[39;00m \u001b[38;5;129;01min\u001b[39;00m ioargs\u001b[38;5;241m.\u001b[39mmode:\n\u001b[0;32m    872\u001b[0m         \u001b[38;5;66;03m# Encoding\u001b[39;00m\n\u001b[1;32m--> 873\u001b[0m         handle \u001b[38;5;241m=\u001b[39m \u001b[38;5;28;43mopen\u001b[39;49m\u001b[43m(\u001b[49m\n\u001b[0;32m    874\u001b[0m \u001b[43m            \u001b[49m\u001b[43mhandle\u001b[49m\u001b[43m,\u001b[49m\n\u001b[0;32m    875\u001b[0m \u001b[43m            \u001b[49m\u001b[43mioargs\u001b[49m\u001b[38;5;241;43m.\u001b[39;49m\u001b[43mmode\u001b[49m\u001b[43m,\u001b[49m\n\u001b[0;32m    876\u001b[0m \u001b[43m            \u001b[49m\u001b[43mencoding\u001b[49m\u001b[38;5;241;43m=\u001b[39;49m\u001b[43mioargs\u001b[49m\u001b[38;5;241;43m.\u001b[39;49m\u001b[43mencoding\u001b[49m\u001b[43m,\u001b[49m\n\u001b[0;32m    877\u001b[0m \u001b[43m            \u001b[49m\u001b[43merrors\u001b[49m\u001b[38;5;241;43m=\u001b[39;49m\u001b[43merrors\u001b[49m\u001b[43m,\u001b[49m\n\u001b[0;32m    878\u001b[0m \u001b[43m            \u001b[49m\u001b[43mnewline\u001b[49m\u001b[38;5;241;43m=\u001b[39;49m\u001b[38;5;124;43m\"\u001b[39;49m\u001b[38;5;124;43m\"\u001b[39;49m\u001b[43m,\u001b[49m\n\u001b[0;32m    879\u001b[0m \u001b[43m        \u001b[49m\u001b[43m)\u001b[49m\n\u001b[0;32m    880\u001b[0m     \u001b[38;5;28;01melse\u001b[39;00m:\n\u001b[0;32m    881\u001b[0m         \u001b[38;5;66;03m# Binary mode\u001b[39;00m\n\u001b[0;32m    882\u001b[0m         handle \u001b[38;5;241m=\u001b[39m \u001b[38;5;28mopen\u001b[39m(handle, ioargs\u001b[38;5;241m.\u001b[39mmode)\n",
      "\u001b[1;31mFileNotFoundError\u001b[0m: [Errno 2] No such file or directory: 'experiment_results.csv'"
     ]
    }
   ],
   "source": [
    "results = pd.read_csv('experiment_results.csv')\n",
    "#print(results.describe())\n",
    "print(results)"
   ]
  },
  {
   "cell_type": "code",
   "execution_count": null,
   "metadata": {},
   "outputs": [
    {
     "name": "stdout",
     "output_type": "stream",
     "text": [
      "     Trial   Stimulus 1 value  Stimulus 1 std  Stimulus 2 value  \\\n",
      "0        1                  3               0              -1.0   \n",
      "1        2                  3               0              -1.0   \n",
      "2        3                  3               0              -1.0   \n",
      "3        4                  3               0              -1.0   \n",
      "4        5                  3               0              -1.0   \n",
      "..     ...                ...             ...               ...   \n",
      "195    120                  3               0               1.0   \n",
      "196    140                  3               0               1.0   \n",
      "197    160                  3               0               1.0   \n",
      "198    180                  3               0               1.0   \n",
      "199    200                  3               0               1.0   \n",
      "\n",
      "     Stimulus 2 std  \n",
      "0                 0  \n",
      "1                 0  \n",
      "2                 0  \n",
      "3                 0  \n",
      "4                 0  \n",
      "..              ...  \n",
      "195               0  \n",
      "196               0  \n",
      "197               0  \n",
      "198               0  \n",
      "199               0  \n",
      "\n",
      "[200 rows x 5 columns]\n"
     ]
    }
   ],
   "source": [
    "trials = pd.read_csv('experiment_stim_pairs.csv')\n",
    "print(trials)"
   ]
  },
  {
   "cell_type": "markdown",
   "metadata": {},
   "source": [
    "############################################"
   ]
  },
  {
   "cell_type": "code",
   "execution_count": null,
   "metadata": {},
   "outputs": [],
   "source": [
    "## fonction pour creer les trials   #########################################\n",
    "import csv\n",
    "new_file_name = 'new_experiment_stim_pairs.csv'\n",
    "with open(new_file_name, mode='w') as f:\n",
    "    writer = csv.writer(f)\n",
    "    writer.writerow(variable_names)\n",
    "    for i in range(len(trials)):\n",
    "        writer.writerow(())"
   ]
  },
  {
   "cell_type": "code",
   "execution_count": null,
   "metadata": {},
   "outputs": [],
   "source": [
    "## fonction pour creer les trials   #########################################\n",
    "stimulus_1_std = 0\n",
    "stimulus_2_std = 0\n",
    "stimulus_1_mean = 3\n",
    "stimulus_2_mean = np.linspace(-1, 1, 20)\n",
    "trial_number = 10\n",
    "trial = 0 \n",
    "\n",
    "import csv\n",
    "new_file_name = 'new_experiment_stim_pairs.csv'\n",
    "with open(new_file_name, mode='w') as f:\n",
    "    writer = csv.writer(f)\n",
    "    writer.writerow(variable_names)\n",
    "    for d, s2_mean in enumerate(stimulus_2_mean):\n",
    "        for tn in range(trial_number):\n",
    "            trial +=1\n",
    " "
   ]
  },
  {
   "cell_type": "code",
   "execution_count": null,
   "metadata": {},
   "outputs": [],
   "source": [
    "\n",
    "stimulus_1_std = 0\n",
    "stimulus_2_std = 0\n",
    "stimulus_1_mean = 3\n",
    "stimulus_2_mean = np.linspace(-1, 1, 20)\n",
    "trial_number = 100\n",
    "trial = 0 \n",
    "\n",
    "def create_stimulus_data(stimulus_2_std, file_name='new_experiment_stim_pairs.csv'):\n",
    "    variable_names = ['trial', 'stimulus_1_mean', 'stimulus_1_std', 'stimulus_2_mean', 'stimulus_2_std']\n",
    "    trial = 0  # Initialisation du compteur d'essais\n",
    "    \n",
    "    with open(file_name, mode='w', newline='') as f:\n",
    "        writer = csv.writer(f)\n",
    "        writer.writerow(variable_names)\n",
    "        for d, s2_mean in enumerate(stimulus_2_mean):\n",
    "            for tn in range(trial_number):\n",
    "                trial += 1\n",
    "                writer.writerow([trial, stimulus_1_mean, stimulus_1_std, s2_mean, stimulus_2_std])"
   ]
  },
  {
   "cell_type": "code",
   "execution_count": null,
   "metadata": {},
   "outputs": [
    {
     "name": "stdout",
     "output_type": "stream",
     "text": [
      "     Trial  Stimulus 1 Value  Stimulus 1 Std  Stimulus 2 Value  \\\n",
      "0        1               0.0             0.0             -4.00   \n",
      "1        2               0.0             0.0             -4.00   \n",
      "2        3               0.0             0.0             -4.00   \n",
      "3        4               0.0             0.0             -4.00   \n",
      "4        5               0.0             0.0             -4.00   \n",
      "..     ...               ...             ...               ...   \n",
      "445     72               0.0             0.0             -2.25   \n",
      "446     73               0.0             0.0             -2.25   \n",
      "447     74               0.0             0.0             -2.25   \n",
      "448     75               0.0             0.0             -2.25   \n",
      "449     76               0.0             0.0             -2.25   \n",
      "\n",
      "     Stimulus 2 Std  Comparison Result  \n",
      "0               2.0               True  \n",
      "1               2.0               True  \n",
      "2               2.0               True  \n",
      "3               2.0               True  \n",
      "4               2.0               True  \n",
      "..              ...                ...  \n",
      "445             2.0              False  \n",
      "446             2.0              False  \n",
      "447             2.0               True  \n",
      "448             2.0               True  \n",
      "449             2.0               True  \n",
      "\n",
      "[450 rows x 6 columns]\n"
     ]
    }
   ],
   "source": [
    "results = pd.read_csv('experiment_results.csv')\n",
    "print(results)"
   ]
  },
  {
   "cell_type": "code",
   "execution_count": null,
   "metadata": {},
   "outputs": [],
   "source": [
    "def get_prob_from_one_value_pair(results, std, mean):\n",
    "    mean_results = results[results['Stimulus 1 Value'] == mean]\n",
    "    std_results = mean_results[mean_results['Stimulus 1 Std'] == std]\n",
    "    decision = std_results['Comparison Result']\n",
    "        \n",
    "    trial_count_with_same_std = len(std_results)  # Nombre d'essais avec le même std\n",
    "    return np.sum(decision) / trial_count_with_same_std\n",
    "    #return np.sum(decision)/trial_number"
   ]
  },
  {
   "cell_type": "code",
   "execution_count": null,
   "metadata": {},
   "outputs": [
    {
     "name": "stdout",
     "output_type": "stream",
     "text": [
      "0.0 0.9545454545454546\n",
      "0.0 1.0\n",
      "0.0 0.9\n",
      "0.0 1.0\n",
      "0.0 0.9\n",
      "0.0 0.9\n",
      "0.0 0.9\n",
      "0.0 0.75\n",
      "0.0 0.7\n",
      "0.0 0.8\n",
      "0.0 0.8\n",
      "0.0 0.7\n",
      "0.0 0.7\n",
      "0.0 0.8\n",
      "0.0 0.6\n",
      "0.0 0.6\n",
      "0.0 0.7\n",
      "0.0 0.3\n",
      "0.0 0.5\n",
      "0.0 0.5\n",
      "0.0 0.3\n",
      "0.0 0.2\n",
      "0.0 0.1\n",
      "0.0 0.1\n",
      "0.0 0.1\n",
      "0.0 0.1\n",
      "0.0 0.2\n",
      "0.0 0.2\n",
      "0.0 0.0\n",
      "0.0 0.0\n",
      "0.0 0.1\n",
      "0.0 0.0\n",
      "0.0 0.0\n"
     ]
    }
   ],
   "source": [
    "means = results['Stimulus 1 Value'].unique()\n",
    "stds = results['Stimulus 1 Std'].unique()\n",
    "stimulus_2_mean = results['Stimulus 2 Value'].unique()\n",
    "decision_prob = np.zeros((len(means), len(stds), len(stimulus_2_mean)))\n",
    "for k, s2_mean in enumerate(stimulus_2_mean):\n",
    "    for i, mean in enumerate(means):\n",
    "        for j, std in enumerate(stds):\n",
    "            decision_prob[i, j, k] = get_prob_from_one_value_pair(results[results['Stimulus 2 Value']==s2_mean], std, mean)\n",
    "            print(mean,get_prob_from_one_value_pair(results[results['Stimulus 2 Value']==s2_mean], std, mean))"
   ]
  },
  {
   "cell_type": "code",
   "execution_count": null,
   "metadata": {},
   "outputs": [
    {
     "name": "stdout",
     "output_type": "stream",
     "text": [
      "[0.] [0.] [-4.   -3.75 -3.5  -3.25 -3.   -2.75 -2.5  -2.25 -2.   -1.75 -1.5  -1.25\n",
      " -1.   -0.75 -0.5  -0.25  0.    0.25  0.5   0.75  1.    1.25  1.5   1.75\n",
      "  2.    2.25  2.5   2.75  3.    3.25  3.5   3.75  4.  ]\n"
     ]
    }
   ],
   "source": [
    "print(means, stds, stimulus_2_mean)"
   ]
  },
  {
   "cell_type": "code",
   "execution_count": null,
   "metadata": {},
   "outputs": [],
   "source": [
    "import matplotlib.pyplot as plt\n",
    "import seaborn as sns\n",
    "discrete_palette = sns.color_palette(\"crest\")"
   ]
  },
  {
   "cell_type": "code",
   "execution_count": null,
   "metadata": {},
   "outputs": [
    {
     "name": "stdout",
     "output_type": "stream",
     "text": [
      "[-4.   -3.75 -3.5  -3.25 -3.   -2.75 -2.5  -2.25 -2.   -1.75 -1.5  -1.25\n",
      " -1.   -0.75 -0.5  -0.25  0.    0.25  0.5   0.75  1.    1.25  1.5   1.75\n",
      "  2.    2.25  2.5   2.75  3.    3.25  3.5   3.75  4.  ] [0.95454545 1.         0.9        1.         0.9        0.9\n",
      " 0.9        0.75       0.7        0.8        0.8        0.7\n",
      " 0.7        0.8        0.6        0.6        0.7        0.3\n",
      " 0.5        0.5        0.3        0.2        0.1        0.1\n",
      " 0.1        0.1        0.2        0.2        0.         0.\n",
      " 0.1        0.         0.        ]\n"
     ]
    }
   ],
   "source": [
    "print(stimulus_2_mean, decision_prob[0][0])"
   ]
  },
  {
   "cell_type": "code",
   "execution_count": null,
   "metadata": {},
   "outputs": [
    {
     "data": {
      "image/png": "[encoded data removed]",
      "text/plain": [
       "<Figure size 640x480 with 1 Axes>"
      ]
     },
     "metadata": {},
     "output_type": "display_data"
    }
   ],
   "source": [
    "for i in range(len(stds)):\n",
    "    print(len(stds))\n",
    "    sns.lineplot(x=stimulus_2_mean, y=decision_prob[i,0], label=f'std = {stds[i]:.2f}', color= 'red') #discrete_palette[i])\n",
    "plt.legend()\n",
    "plt.xlabel(\"S_test\")\n",
    "plt.ylabel(\"%TRUE\")\n",
    "#plt.ylim(0, 1)\n",
    "\n",
    "plt.show()"
   ]
  },
  {
   "cell_type": "code",
   "execution_count": null,
   "metadata": {},
   "outputs": [
    {
     "name": "stdout",
     "output_type": "stream",
     "text": [
      "[-4.   -3.75 -3.5  -3.25 -3.   -2.75 -2.5  -2.25 -2.   -1.75 -1.5  -1.25\n",
      " -1.   -0.75 -0.5  -0.25  0.    0.25  0.5   0.75  1.    1.25  1.5   1.75\n",
      "  2.    2.25  2.5   2.75  3.    3.25  3.5   3.75  4.  ]\n",
      "[0.9  1.   0.9  1.   0.9  0.9  0.9  0.75 0.7  0.8  0.8  0.7  0.7  0.8\n",
      " 0.6  0.6  0.7  0.3  0.5  0.5  0.3  0.2  0.1  0.1  0.1  0.1  0.2  0.2\n",
      " 0.   0.   0.1  0.   0.  ]\n"
     ]
    }
   ],
   "source": [
    "print(stimulus_2_mean) \n",
    "print(decision_prob[0][0])"
   ]
  },
  {
   "cell_type": "markdown",
   "metadata": {},
   "source": [
    "## TEST plusieurs fichiers "
   ]
  },
  {
   "cell_type": "code",
   "execution_count": null,
   "metadata": {},
   "outputs": [
    {
     "data": {
      "image/png": "[encoded data removed]",
      "text/plain": [
       "<Figure size 640x480 with 1 Axes>"
      ]
     },
     "metadata": {},
     "output_type": "display_data"
    }
   ],
   "source": [
    "import pandas as pd\n",
    "import numpy as np\n",
    "import matplotlib.pyplot as plt\n",
    "import seaborn as sns\n",
    "\n",
    "def get_prob_from_one_value_pair(results, std, mean):\n",
    "    mean_results = results[results['Stimulus 1 Value'] == mean]\n",
    "    std_results = mean_results[mean_results['Stimulus 1 Std'] == std]\n",
    "    decision = std_results['Comparison Result']\n",
    "    trial_count_with_same_std = len(std_results)\n",
    "    return np.sum(decision) / trial_count_with_same_std if trial_count_with_same_std > 0 else np.nan\n",
    "\n",
    "def process_multiple_files(file_paths):\n",
    "    \n",
    "    all_decision_probs = {}\n",
    "\n",
    "    for file_path in file_paths:\n",
    "        \n",
    "        results = pd.read_csv(file_path)\n",
    "        \n",
    "       \n",
    "        means = results['Stimulus 1 Value'].unique()\n",
    "        stds = results['Stimulus 1 Std'].unique()\n",
    "        stimulus_2_mean = results['Stimulus 2 Value'].unique()\n",
    "        \n",
    "        \n",
    "        decision_prob = np.zeros((len(means), len(stds), len(stimulus_2_mean)))\n",
    "        \n",
    "        \n",
    "        for k, s2_mean in enumerate(stimulus_2_mean):\n",
    "            for i, mean in enumerate(means):\n",
    "                for j, std in enumerate(stds):\n",
    "                    subset_results = results[results['Stimulus 2 Value'] == s2_mean]\n",
    "                    decision_prob[i, j, k] = get_prob_from_one_value_pair(subset_results, std, mean)\n",
    "        \n",
    "     \n",
    "        all_decision_probs[file_path] = {\n",
    "            \"stimulus_2_mean\": stimulus_2_mean,\n",
    "            \"decision_prob\": decision_prob,\n",
    "            \"stds\": stds,\n",
    "            \"means\": means\n",
    "        }\n",
    "    \n",
    "    return all_decision_probs\n",
    "\n",
    "def plot_CDF(all_decision_probs):\n",
    "    for file_path, data in all_decision_probs.items():\n",
    "        stimulus_2_mean = data[\"stimulus_2_mean\"]\n",
    "        decision_prob = data[\"decision_prob\"]\n",
    "        stds = data[\"stds\"]\n",
    "\n",
    "        for i in range(len(stds)):\n",
    "            sns.lineplot(\n",
    "                x=stimulus_2_mean,\n",
    "                y=decision_prob[i, 0],\n",
    "                label=f'{file_path} - std = {stds[i]:.2f}'\n",
    "            )\n",
    "    \n",
    "    plt.legend()\n",
    "    plt.xlabel(\"S_test\")\n",
    "    plt.ylabel(\"%TRUE\")\n",
    "    plt.show()\n",
    "\n",
    "\n",
    "file_paths = [\"experiment_results.csv\", \"experiment_results copy.csv\",\"experiment_results copy 2.csv\"]  \n",
    "all_decision_probs = process_multiple_files(file_paths)\n",
    "plot_CDF(all_decision_probs)\n",
    "\n",
    "\n",
    "d\n"
   ]
  }
 ],
 "metadata": {
  "kernelspec": {
   "display_name": "Python 3",
   "language": "python",
   "name": "python3"
  },
  "language_info": {
   "codemirror_mode": {
    "name": "ipython",
    "version": 3
   },
   "file_extension": ".py",
   "mimetype": "text/x-python",
   "name": "python",
   "nbconvert_exporter": "python",
   "pygments_lexer": "ipython3",
   "version": "3.12.3"
  }
 },
 "nbformat": 4,
 "nbformat_minor": 2
}
